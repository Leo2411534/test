{
  "nbformat": 4,
  "nbformat_minor": 0,
  "metadata": {
    "colab": {
      "provenance": [],
      "authorship_tag": "ABX9TyOMkGLsvFB44x/OzUQZTG/x",
      "include_colab_link": true
    },
    "kernelspec": {
      "name": "python3",
      "display_name": "Python 3"
    },
    "language_info": {
      "name": "python"
    }
  },
  "cells": [
    {
      "cell_type": "markdown",
      "metadata": {
        "id": "view-in-github",
        "colab_type": "text"
      },
      "source": [
        "<a href=\"https://colab.research.google.com/github/Leo2411534/test/blob/main/Participation_Exercise.ipynb\" target=\"_parent\"><img src=\"https://colab.research.google.com/assets/colab-badge.svg\" alt=\"Open In Colab\"/></a>"
      ]
    },
    {
      "cell_type": "code",
      "execution_count": 1,
      "metadata": {
        "colab": {
          "base_uri": "https://localhost:8080/"
        },
        "id": "xvJKyLUuZHTy",
        "outputId": "173cc9bc-224c-41a5-df10-2700fb7ce752"
      },
      "outputs": [
        {
          "output_type": "stream",
          "name": "stdout",
          "text": [
            "Predicted Class: spam\n"
          ]
        }
      ],
      "source": [
        "from sklearn.feature_extraction.text import TfidfVectorizer\n",
        "from sklearn.naive_bayes import MultinomialNB\n",
        "from sklearn.pipeline import make_pipeline\n",
        "\n",
        "# Sample training data\n",
        "texts = [\n",
        "    \"Win a brand new car! Click here to claim your prize.\",\n",
        "    \"Congratulations! You have won a lottery of $1,000,000!\",\n",
        "    \"Get cheap loans now. Limited offer!\",\n",
        "    \"You are selected for a free gift voucher.\",\n",
        "    \"This is an important update about your bank account.\",\n",
        "    \"Meeting at 5 PM. Don't forget to bring the reports.\",\n",
        "    \"How was your day? Let's catch up soon.\",\n",
        "    \"Reminder: Your doctor’s appointment is tomorrow at 10 AM.\",\n",
        "    \"Hey, are we still on for lunch tomorrow?\",\n",
        "    \"Your order has been shipped and will be delivered soon.\"\n",
        "]\n",
        "\n",
        "labels = [\"spam\", \"spam\", \"spam\", \"spam\", \"ham\", \"ham\", \"ham\", \"ham\", \"ham\", \"ham\"]\n",
        "\n",
        "# Create a model pipeline\n",
        "model = make_pipeline(TfidfVectorizer(), MultinomialNB())\n",
        "\n",
        "# Train the model\n",
        "model.fit(texts, labels)\n",
        "\n",
        "# Predict new text\n",
        "def predict_text(text):\n",
        "    prediction = model.predict([text])[0]\n",
        "    return f\"Predicted Class: {prediction}\"\n",
        "\n",
        "# Example\n",
        "new_text = \"Congratulations! You have won a free iPhone.\"\n",
        "print(predict_text(new_text))"
      ]
    }
  ]
}