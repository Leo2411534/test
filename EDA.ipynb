{
  "nbformat": 4,
  "nbformat_minor": 0,
  "metadata": {
    "colab": {
      "provenance": [],
      "authorship_tag": "ABX9TyM3jhB8tlw/WmJGYEEBPizK",
      "include_colab_link": true
    },
    "kernelspec": {
      "name": "python3",
      "display_name": "Python 3"
    },
    "language_info": {
      "name": "python"
    }
  },
  "cells": [
    {
      "cell_type": "markdown",
      "metadata": {
        "id": "view-in-github",
        "colab_type": "text"
      },
      "source": [
        "<a href=\"https://colab.research.google.com/github/Leo2411534/test/blob/main/EDA.ipynb\" target=\"_parent\"><img src=\"https://colab.research.google.com/assets/colab-badge.svg\" alt=\"Open In Colab\"/></a>"
      ]
    },
    {
      "cell_type": "code",
      "source": [],
      "metadata": {
        "id": "tjnr-LO8h-tN"
      },
      "execution_count": null,
      "outputs": []
    },
    {
      "cell_type": "markdown",
      "source": [
        "**Loading Data**"
      ],
      "metadata": {
        "id": "UJLUofPvh9hp"
      }
    },
    {
      "cell_type": "code",
      "source": [
        "import pandas as pd\n",
        "data = pd.read_csv('/content/sample_data/Custom_data/exercise_data.csv')\n",
        "#TO READ FIVE RANDOM VALUES\n",
        "data.head()"
      ],
      "metadata": {
        "id": "KvsswHzsh45i"
      },
      "execution_count": null,
      "outputs": []
    },
    {
      "cell_type": "code",
      "source": [
        "#TO READ THE LAST 5 ROWS\n",
        "data.tail()"
      ],
      "metadata": {
        "id": "khlpBYvWmDNl"
      },
      "execution_count": null,
      "outputs": []
    },
    {
      "cell_type": "code",
      "source": [
        "#INFORMTION ABOUT THE DATA\n",
        "data.info()"
      ],
      "metadata": {
        "id": "BnF1hv8umf0p"
      },
      "execution_count": null,
      "outputs": []
    },
    {
      "cell_type": "code",
      "source": [
        "#describe data\n",
        "data.describe()"
      ],
      "metadata": {
        "id": "RoEkaVEfrw4f"
      },
      "execution_count": null,
      "outputs": []
    },
    {
      "cell_type": "code",
      "source": [
        "data.isnull().sum()"
      ],
      "metadata": {
        "id": "OjimEhI0t9_Z"
      },
      "execution_count": null,
      "outputs": []
    },
    {
      "cell_type": "code",
      "source": [
        "(data.isnull().sum()/(len(data)))*100"
      ],
      "metadata": {
        "id": "TaGNUjhFwN6B"
      },
      "execution_count": null,
      "outputs": []
    },
    {
      "cell_type": "code",
      "source": [
        "#To know how many rows and columns\n",
        "data.shape"
      ],
      "metadata": {
        "id": "7gLvil_suGlK"
      },
      "execution_count": null,
      "outputs": []
    },
    {
      "cell_type": "markdown",
      "source": [
        "**DATA REDUCCION**"
      ],
      "metadata": {
        "id": "wTtXsruRvCxG"
      }
    },
    {
      "cell_type": "code",
      "source": [
        "#removing the pulse column\n",
        "data.drop(['Pulse'], axis=1)"
      ],
      "metadata": {
        "id": "6TX8fd4mvEgN"
      },
      "execution_count": null,
      "outputs": []
    },
    {
      "cell_type": "code",
      "source": [
        "data.shape"
      ],
      "metadata": {
        "id": "FiuDaT2O11da"
      },
      "execution_count": null,
      "outputs": []
    },
    {
      "cell_type": "markdown",
      "source": [
        "**Working with Date & Time**"
      ],
      "metadata": {
        "id": "ynKemYMY157T"
      }
    },
    {
      "cell_type": "code",
      "source": [
        "from datetime import date\n",
        "print(date.today().year)\n",
        "print(date.today().month)\n",
        "print(date.today())\n",
        "# Is it 23 of jan ?"
      ],
      "metadata": {
        "id": "5ArrK8vx2HtQ",
        "outputId": "ac533bd3-c8da-4e3e-b853-09d64b58f3f5",
        "colab": {
          "base_uri": "https://localhost:8080/"
        }
      },
      "execution_count": 7,
      "outputs": [
        {
          "output_type": "stream",
          "name": "stdout",
          "text": [
            "2025\n",
            "1\n",
            "2025-01-23\n"
          ]
        }
      ]
    },
    {
      "cell_type": "code",
      "source": [
        "from datetime import datetime\n",
        "current_time = datetime.now()\n",
        "print(current_time)\n",
        "\n",
        "print('Current Time:', current_time.strftime('%H:%M:%S'))"
      ],
      "metadata": {
        "id": "uu0h_f2k3M83"
      },
      "execution_count": null,
      "outputs": []
    },
    {
      "cell_type": "code",
      "source": [
        "#Calculate the difference between Pulse & MaxPulse and store it in a new column \"DifferenceOfPulse\"\n",
        "data['Differenceofpulse'] = data['Maxpulse']-data['Pulse']\n",
        "data = data.drop(['Differenceofpulse'], axis=1)\n",
        "data.head()"
      ],
      "metadata": {
        "id": "lnyLfujH6eQj"
      },
      "execution_count": null,
      "outputs": []
    },
    {
      "cell_type": "markdown",
      "source": [
        "**[Handling missing values] Different of handling missing values:**\n",
        "\n",
        "1. Mean\n",
        "2. Mode\n",
        "3. Median\n",
        "4. Drop those row"
      ],
      "metadata": {
        "id": "i4-VfFIV9fFf"
      }
    },
    {
      "cell_type": "code",
      "source": [
        "data['Calories'] = data['Calories'].fillna(data['Calories'].mean())\n",
        "print('Mean of MaxPulse is:', data['Maxpulse'].mean())\n",
        "print('Mean of MaxPulse is:', data['Maxpulse'].median())\n",
        "print('Mean of MaxPulse is:', data['Maxpulse'].mode())\n",
        "\n",
        "#Mean of calories\n",
        "print('Mean of Calories is:', data['calories'].mean())"
      ],
      "metadata": {
        "id": "bQe_QGJ09ohZ"
      },
      "execution_count": null,
      "outputs": []
    },
    {
      "cell_type": "code",
      "source": [
        "data.head(20)"
      ],
      "metadata": {
        "id": "Bf66NsGO93G6"
      },
      "execution_count": null,
      "outputs": []
    },
    {
      "cell_type": "code",
      "source": [
        "data.isnull().sum()"
      ],
      "metadata": {
        "id": "31bt2_NgB-vg"
      },
      "execution_count": null,
      "outputs": []
    },
    {
      "cell_type": "code",
      "source": [
        "data_cleaned = data.dropna()\n",
        "#all the rows of all the columns those contain null values\n"
      ],
      "metadata": {
        "id": "4yqojbiM_-za"
      },
      "execution_count": 21,
      "outputs": []
    },
    {
      "cell_type": "code",
      "source": [
        "data_cleaned.shape"
      ],
      "metadata": {
        "id": "d8QL3SKvADNo",
        "outputId": "22338736-6822-4ae2-969b-09aff20c621b",
        "colab": {
          "base_uri": "https://localhost:8080/"
        }
      },
      "execution_count": 20,
      "outputs": [
        {
          "output_type": "execute_result",
          "data": {
            "text/plain": [
              "(31, 5)"
            ]
          },
          "metadata": {},
          "execution_count": 20
        }
      ]
    },
    {
      "cell_type": "code",
      "source": [
        "data = data.dropna(subset=['Calories'])\n",
        "#delete null rows from calories columns only\n",
        "print(data.isnull().sum())\n",
        "print(data.shape)"
      ],
      "metadata": {
        "id": "eDCAUcByCse7",
        "outputId": "2cc87ee8-17db-43a1-f52d-e5940f951452",
        "colab": {
          "base_uri": "https://localhost:8080/"
        }
      },
      "execution_count": 22,
      "outputs": [
        {
          "output_type": "stream",
          "name": "stdout",
          "text": [
            "Duration    0\n",
            "Date        1\n",
            "Pulse       0\n",
            "Maxpulse    0\n",
            "Calories    0\n",
            "dtype: int64\n",
            "(32, 5)\n"
          ]
        }
      ]
    }
  ]
}