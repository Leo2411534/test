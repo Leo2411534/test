{
  "nbformat": 4,
  "nbformat_minor": 0,
  "metadata": {
    "colab": {
      "provenance": [],
      "authorship_tag": "ABX9TyP1B2TDPI6Yag5Tho5H6kSk",
      "include_colab_link": true
    },
    "kernelspec": {
      "name": "python3",
      "display_name": "Python 3"
    },
    "language_info": {
      "name": "python"
    }
  },
  "cells": [
    {
      "cell_type": "markdown",
      "metadata": {
        "id": "view-in-github",
        "colab_type": "text"
      },
      "source": [
        "<a href=\"https://colab.research.google.com/github/Leo2411534/test/blob/main/EDA.ipynb\" target=\"_parent\"><img src=\"https://colab.research.google.com/assets/colab-badge.svg\" alt=\"Open In Colab\"/></a>"
      ]
    },
    {
      "cell_type": "code",
      "source": [],
      "metadata": {
        "id": "tjnr-LO8h-tN"
      },
      "execution_count": null,
      "outputs": []
    },
    {
      "cell_type": "markdown",
      "source": [
        "Loading Data"
      ],
      "metadata": {
        "id": "UJLUofPvh9hp"
      }
    },
    {
      "cell_type": "code",
      "source": [
        "import pandas as pd\n",
        "data = pd.read_csv('/content/sample_data/Custom_data/exercise_data.csv')\n",
        "#TO READ FIVE RANDOM VALUES\n",
        "data.head()"
      ],
      "metadata": {
        "id": "KvsswHzsh45i"
      },
      "execution_count": null,
      "outputs": []
    },
    {
      "cell_type": "code",
      "source": [
        "#TO READ THE LAST 5 ROWS\n",
        "data.tail()"
      ],
      "metadata": {
        "id": "khlpBYvWmDNl"
      },
      "execution_count": null,
      "outputs": []
    },
    {
      "cell_type": "code",
      "source": [
        "#INFORMTION ABOUT THE DATA\n",
        "data.info()"
      ],
      "metadata": {
        "id": "BnF1hv8umf0p"
      },
      "execution_count": null,
      "outputs": []
    },
    {
      "cell_type": "code",
      "source": [
        "#describe data\n",
        "data.describe()"
      ],
      "metadata": {
        "id": "RoEkaVEfrw4f"
      },
      "execution_count": null,
      "outputs": []
    },
    {
      "cell_type": "code",
      "source": [
        "data.isnull().sum()"
      ],
      "metadata": {
        "id": "OjimEhI0t9_Z"
      },
      "execution_count": null,
      "outputs": []
    },
    {
      "cell_type": "code",
      "source": [
        "(data.isnull().sum()/(len(data)))*100"
      ],
      "metadata": {
        "id": "TaGNUjhFwN6B"
      },
      "execution_count": null,
      "outputs": []
    },
    {
      "cell_type": "code",
      "source": [
        "#To know how many rows and columns\n",
        "data.shape"
      ],
      "metadata": {
        "id": "7gLvil_suGlK"
      },
      "execution_count": null,
      "outputs": []
    },
    {
      "cell_type": "markdown",
      "source": [
        "DATA REDUCCION"
      ],
      "metadata": {
        "id": "wTtXsruRvCxG"
      }
    },
    {
      "cell_type": "code",
      "source": [
        "#removing the pulse column\n",
        "data.drop(['Pulse'], axis=1)"
      ],
      "metadata": {
        "id": "6TX8fd4mvEgN"
      },
      "execution_count": null,
      "outputs": []
    }
  ]
}