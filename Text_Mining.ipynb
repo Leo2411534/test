{
  "cells": [
    {
      "cell_type": "markdown",
      "metadata": {
        "id": "view-in-github",
        "colab_type": "text"
      },
      "source": [
        "<a href=\"https://colab.research.google.com/github/Leo2411534/test/blob/main/Text_Mining.ipynb\" target=\"_parent\"><img src=\"https://colab.research.google.com/assets/colab-badge.svg\" alt=\"Open In Colab\"/></a>"
      ]
    },
    {
      "cell_type": "markdown",
      "id": "1d67ea91",
      "metadata": {
        "id": "1d67ea91"
      },
      "source": [
        "## Text Analysis"
      ]
    },
    {
      "cell_type": "code",
      "execution_count": 24,
      "id": "42ac0d30",
      "metadata": {
        "id": "42ac0d30",
        "outputId": "354ca4b1-45bc-4275-a8f6-11a9ae911f41",
        "colab": {
          "base_uri": "https://localhost:8080/"
        }
      },
      "outputs": [
        {
          "output_type": "stream",
          "name": "stdout",
          "text": [
            "Requirement already satisfied: nltk in /usr/local/lib/python3.11/dist-packages (3.9.1)\n",
            "Requirement already satisfied: click in /usr/local/lib/python3.11/dist-packages (from nltk) (8.1.8)\n",
            "Requirement already satisfied: joblib in /usr/local/lib/python3.11/dist-packages (from nltk) (1.4.2)\n",
            "Requirement already satisfied: regex>=2021.8.3 in /usr/local/lib/python3.11/dist-packages (from nltk) (2024.11.6)\n",
            "Requirement already satisfied: tqdm in /usr/local/lib/python3.11/dist-packages (from nltk) (4.67.1)\n"
          ]
        }
      ],
      "source": [
        "pip install nltk"
      ]
    },
    {
      "cell_type": "code",
      "execution_count": 29,
      "id": "b6fa20be",
      "metadata": {
        "id": "b6fa20be",
        "outputId": "7c3edf32-c5fe-4f7e-99fe-2f0b93526f94",
        "colab": {
          "base_uri": "https://localhost:8080/"
        }
      },
      "outputs": [
        {
          "output_type": "stream",
          "name": "stdout",
          "text": [
            "['This', 'is', 'a', 'Big', 'Data', 'course', 'in', 'CCTB', '.']\n"
          ]
        }
      ],
      "source": [
        "# Tokenization\n",
        "\n",
        "# Para descargar la liberia en especifico\n",
        "#import nltk\n",
        "#nltk.download('punkt_tab')\n",
        "#nltk.download('all')\n",
        "\n",
        "text = \"This is a Big Data course in CCTB.\"\n",
        "tokens = nltk.word_tokenize(text)\n",
        "print(tokens)"
      ]
    },
    {
      "cell_type": "code",
      "execution_count": 30,
      "id": "33b58e3a",
      "metadata": {
        "id": "33b58e3a",
        "outputId": "8440c4b5-9da6-45c1-f7ff-ea46eecb03e7",
        "colab": {
          "base_uri": "https://localhost:8080/"
        }
      },
      "outputs": [
        {
          "output_type": "stream",
          "name": "stdout",
          "text": [
            "Counter({'This': 1, 'is': 1, 'a': 1, 'Big': 1, 'Data': 1, 'course': 1, 'in': 1, 'CCTB': 1, '.': 1})\n"
          ]
        }
      ],
      "source": [
        "# Counter Tokens\n",
        "from collections import Counter\n",
        "\n",
        "word_counts = Counter(tokens)\n",
        "print(word_counts)"
      ]
    },
    {
      "cell_type": "code",
      "execution_count": 31,
      "id": "6e2b3da5",
      "metadata": {
        "id": "6e2b3da5",
        "outputId": "c339b4d5-5b68-4766-94e8-598f7fbb0cb8",
        "colab": {
          "base_uri": "https://localhost:8080/"
        }
      },
      "outputs": [
        {
          "output_type": "stream",
          "name": "stdout",
          "text": [
            "['Big', 'Data', 'course', 'CCTB', '.']\n"
          ]
        }
      ],
      "source": [
        "# StopWords (The, an , or ,etc.)\n",
        "\n",
        "from nltk.corpus import stopwords\n",
        "\n",
        "stop_words = set(stopwords.words('english'))\n",
        "filtered_tokens = [word for word in tokens if word.lower() not in stop_words]\n",
        "print(filtered_tokens)"
      ]
    },
    {
      "cell_type": "code",
      "execution_count": 33,
      "id": "db2358b1",
      "metadata": {
        "id": "db2358b1",
        "outputId": "109db6bf-a88b-4568-efbc-de31a45433cb",
        "colab": {
          "base_uri": "https://localhost:8080/"
        }
      },
      "outputs": [
        {
          "output_type": "stream",
          "name": "stdout",
          "text": [
            "\n",
            "Steemedwords ['thi', 'is', 'a', 'big', 'data', 'cours', 'in', 'cctb', '.']\n",
            "\n",
            "Lemma words ['This', 'is', 'a', 'Big', 'Data', 'course', 'in', 'CCTB', '.']\n"
          ]
        }
      ],
      "source": [
        "# Stemming and Lemitizing (Back to root form)\n",
        "\n",
        "from nltk.stem import PorterStemmer, WordNetLemmatizer\n",
        "\n",
        "stemmer = PorterStemmer()\n",
        "stemmed_words = [stemmer.stem(word) for word in tokens]\n",
        "print('\\nSteemedwords', stemmed_words)\n",
        "\n",
        "lemmatizer = WordNetLemmatizer()\n",
        "lemmatized_words = [lemmatizer.lemmatize(word) for word in tokens]\n",
        "print('\\nLemma words', lemmatized_words)"
      ]
    },
    {
      "cell_type": "code",
      "execution_count": 35,
      "id": "4a6faf94",
      "metadata": {
        "id": "4a6faf94",
        "outputId": "0f0a069e-85b1-4bc6-eb7d-3096bb370f4d",
        "colab": {
          "base_uri": "https://localhost:8080/"
        }
      },
      "outputs": [
        {
          "output_type": "stream",
          "name": "stdout",
          "text": [
            "{'neg': 0.0, 'neu': 0.327, 'pos': 0.673, 'compound': 0.9237}\n"
          ]
        }
      ],
      "source": [
        "# Sentiment Analysis\n",
        "\n",
        "from nltk.sentiment import SentimentIntensityAnalyzer\n",
        "\n",
        "text = \"I love this course! This is very exciting and amazing!\"\n",
        "sia = SentimentIntensityAnalyzer()\n",
        "sentiment_scores = sia.polarity_scores(text)\n",
        "print(sentiment_scores)"
      ]
    },
    {
      "cell_type": "code",
      "execution_count": 36,
      "id": "37d396df",
      "metadata": {
        "id": "37d396df",
        "outputId": "66b59238-4ecc-4d3a-a262-d30786c48101",
        "colab": {
          "base_uri": "https://localhost:8080/"
        }
      },
      "outputs": [
        {
          "output_type": "stream",
          "name": "stdout",
          "text": [
            "{'neg': 0.611, 'neu': 0.389, 'pos': 0.0, 'compound': -0.7813}\n"
          ]
        }
      ],
      "source": [
        "from nltk.sentiment import SentimentIntensityAnalyzer\n",
        "\n",
        "text = \"I Hate this course! Its very hard and confusing\"\n",
        "sia = SentimentIntensityAnalyzer()\n",
        "sentiment_scores = sia.polarity_scores(text)\n",
        "print(sentiment_scores)"
      ]
    },
    {
      "cell_type": "code",
      "source": [
        "# Excercise:\n",
        "## 1 Take a paragraph\n",
        "## 2 tokenize into sentences\n",
        "## 3 Remove stop words\n",
        "## 4 Perform steeming and lematization\n"
      ],
      "metadata": {
        "id": "NiwF5IGA97gf"
      },
      "id": "NiwF5IGA97gf",
      "execution_count": null,
      "outputs": []
    },
    {
      "cell_type": "code",
      "source": [
        "text = \"Jane, I will not trouble you with abominable details: some strong words shall express what I have to say. I lived with that woman upstairs four years, and before that time she had tried me indeed: her character ripened and developed with frightful rapidity; her vices sprang up fast and rank: they were so strong, only cruelty could check them, and I would not use cruelty. What a pigmy intellect she had, and what giant propensities!\"\n",
        "tokens = nltk.word_tokenize(text)\n",
        "print(tokens)\n",
        "\n",
        "\n",
        "from collections import Counter\n",
        "word_counts = Counter(tokens)\n",
        "print(word_counts)\n",
        "\n",
        "\n",
        "from nltk.corpus import stopwords\n",
        "stop_words = set(stopwords.words('english'))\n",
        "filtered_tokens = [word for word in tokens if word.lower() not in stop_words]\n",
        "print(filtered_tokens)\n",
        "\n",
        "\n",
        "from nltk.stem import PorterStemmer, WordNetLemmatizer\n",
        "stemmer = PorterStemmer()\n",
        "stemmed_words = [stemmer.stem(word) for word in tokens]\n",
        "print('\\nSteemedwords', stemmed_words)\n",
        "lemmatizer = WordNetLemmatizer()\n",
        "lemmatized_words = [lemmatizer.lemmatize(word) for word in tokens]\n",
        "print('\\nLemma words', lemmatized_words)\n",
        "\n",
        "\n",
        "from nltk.sentiment import SentimentIntensityAnalyzer\n",
        "text = \"Jane, I will not trouble you with abominable details: some strong words shall express what I have to say. I lived with that woman upstairs four years, and before that time she had tried me indeed: her character ripened and developed with frightful rapidity; her vices sprang up fast and rank: they were so strong, only cruelty could check them, and I would not use cruelty. What a pigmy intellect she had, and what giant propensities!\"\n",
        "sia = SentimentIntensityAnalyzer()\n",
        "sentiment_scores = sia.polarity_scores(text)\n",
        "print(sentiment_scores)\n"
      ],
      "metadata": {
        "colab": {
          "base_uri": "https://localhost:8080/"
        },
        "id": "cp93x8D1-cTz",
        "outputId": "1e49fbbe-db87-4f87-8cd3-4d5edd6aa367"
      },
      "id": "cp93x8D1-cTz",
      "execution_count": 40,
      "outputs": [
        {
          "output_type": "stream",
          "name": "stdout",
          "text": [
            "['Jane', ',', 'I', 'will', 'not', 'trouble', 'you', 'with', 'abominable', 'details', ':', 'some', 'strong', 'words', 'shall', 'express', 'what', 'I', 'have', 'to', 'say', '.', 'I', 'lived', 'with', 'that', 'woman', 'upstairs', 'four', 'years', ',', 'and', 'before', 'that', 'time', 'she', 'had', 'tried', 'me', 'indeed', ':', 'her', 'character', 'ripened', 'and', 'developed', 'with', 'frightful', 'rapidity', ';', 'her', 'vices', 'sprang', 'up', 'fast', 'and', 'rank', ':', 'they', 'were', 'so', 'strong', ',', 'only', 'cruelty', 'could', 'check', 'them', ',', 'and', 'I', 'would', 'not', 'use', 'cruelty', '.', 'What', 'a', 'pigmy', 'intellect', 'she', 'had', ',', 'and', 'what', 'giant', 'propensities', '!']\n",
            "Counter({',': 5, 'and': 5, 'I': 4, 'with': 3, ':': 3, 'not': 2, 'strong': 2, 'what': 2, '.': 2, 'that': 2, 'she': 2, 'had': 2, 'her': 2, 'cruelty': 2, 'Jane': 1, 'will': 1, 'trouble': 1, 'you': 1, 'abominable': 1, 'details': 1, 'some': 1, 'words': 1, 'shall': 1, 'express': 1, 'have': 1, 'to': 1, 'say': 1, 'lived': 1, 'woman': 1, 'upstairs': 1, 'four': 1, 'years': 1, 'before': 1, 'time': 1, 'tried': 1, 'me': 1, 'indeed': 1, 'character': 1, 'ripened': 1, 'developed': 1, 'frightful': 1, 'rapidity': 1, ';': 1, 'vices': 1, 'sprang': 1, 'up': 1, 'fast': 1, 'rank': 1, 'they': 1, 'were': 1, 'so': 1, 'only': 1, 'could': 1, 'check': 1, 'them': 1, 'would': 1, 'use': 1, 'What': 1, 'a': 1, 'pigmy': 1, 'intellect': 1, 'giant': 1, 'propensities': 1, '!': 1})\n",
            "['Jane', ',', 'trouble', 'abominable', 'details', ':', 'strong', 'words', 'shall', 'express', 'say', '.', 'lived', 'woman', 'upstairs', 'four', 'years', ',', 'time', 'tried', 'indeed', ':', 'character', 'ripened', 'developed', 'frightful', 'rapidity', ';', 'vices', 'sprang', 'fast', 'rank', ':', 'strong', ',', 'cruelty', 'could', 'check', ',', 'would', 'use', 'cruelty', '.', 'pigmy', 'intellect', ',', 'giant', 'propensities', '!']\n",
            "\n",
            "Steemedwords ['jane', ',', 'i', 'will', 'not', 'troubl', 'you', 'with', 'abomin', 'detail', ':', 'some', 'strong', 'word', 'shall', 'express', 'what', 'i', 'have', 'to', 'say', '.', 'i', 'live', 'with', 'that', 'woman', 'upstair', 'four', 'year', ',', 'and', 'befor', 'that', 'time', 'she', 'had', 'tri', 'me', 'inde', ':', 'her', 'charact', 'ripen', 'and', 'develop', 'with', 'fright', 'rapid', ';', 'her', 'vice', 'sprang', 'up', 'fast', 'and', 'rank', ':', 'they', 'were', 'so', 'strong', ',', 'onli', 'cruelti', 'could', 'check', 'them', ',', 'and', 'i', 'would', 'not', 'use', 'cruelti', '.', 'what', 'a', 'pigmi', 'intellect', 'she', 'had', ',', 'and', 'what', 'giant', 'propens', '!']\n",
            "\n",
            "Lemma words ['Jane', ',', 'I', 'will', 'not', 'trouble', 'you', 'with', 'abominable', 'detail', ':', 'some', 'strong', 'word', 'shall', 'express', 'what', 'I', 'have', 'to', 'say', '.', 'I', 'lived', 'with', 'that', 'woman', 'upstairs', 'four', 'year', ',', 'and', 'before', 'that', 'time', 'she', 'had', 'tried', 'me', 'indeed', ':', 'her', 'character', 'ripened', 'and', 'developed', 'with', 'frightful', 'rapidity', ';', 'her', 'vice', 'sprang', 'up', 'fast', 'and', 'rank', ':', 'they', 'were', 'so', 'strong', ',', 'only', 'cruelty', 'could', 'check', 'them', ',', 'and', 'I', 'would', 'not', 'use', 'cruelty', '.', 'What', 'a', 'pigmy', 'intellect', 'she', 'had', ',', 'and', 'what', 'giant', 'propensity', '!']\n",
            "{'neg': 0.132, 'neu': 0.729, 'pos': 0.138, 'compound': -0.2643}\n"
          ]
        }
      ]
    },
    {
      "cell_type": "code",
      "execution_count": 38,
      "id": "bb2ca1a3",
      "metadata": {
        "id": "bb2ca1a3",
        "outputId": "5a653536-948f-4428-c5b2-db8c8501ddfe",
        "colab": {
          "base_uri": "https://localhost:8080/"
        }
      },
      "outputs": [
        {
          "output_type": "stream",
          "name": "stdout",
          "text": [
            "['positive']\n"
          ]
        }
      ],
      "source": [
        "# Text Classification\n",
        "\n",
        "import nltk\n",
        "from sklearn.feature_extraction.text import CountVectorizer\n",
        "from sklearn.naive_bayes import MultinomialNB\n",
        "\n",
        "# Training data\n",
        "documents = [\n",
        "    (\"I love this course\", \"positive\"),\n",
        "    (\"I hate this program\", \"negative\"),\n",
        "    (\"This was an awesome movie\", \"positive\"),\n",
        "    (\"The course was terrible\", \"negative\")\n",
        "]\n",
        "\n",
        "# Prepare features and labels\n",
        "vectorizer = CountVectorizer()\n",
        "features = vectorizer.fit_transform([doc[0] for doc in documents])\n",
        "labels = [doc[1] for doc in documents]\n",
        "\n",
        "# Train a classifier (Naive Bayes)\n",
        "classifier = MultinomialNB()\n",
        "classifier.fit(features, labels)\n",
        "\n",
        "# Test with a new example\n",
        "new_example = vectorizer.transform([\"I really enjoyed watching this film\"])\n",
        "prediction = classifier.predict(new_example)\n",
        "print(prediction)"
      ]
    },
    {
      "cell_type": "code",
      "execution_count": null,
      "id": "ab0a6c7a",
      "metadata": {
        "id": "ab0a6c7a"
      },
      "outputs": [],
      "source": []
    }
  ],
  "metadata": {
    "kernelspec": {
      "display_name": "Python 3 (ipykernel)",
      "language": "python",
      "name": "python3"
    },
    "language_info": {
      "codemirror_mode": {
        "name": "ipython",
        "version": 3
      },
      "file_extension": ".py",
      "mimetype": "text/x-python",
      "name": "python",
      "nbconvert_exporter": "python",
      "pygments_lexer": "ipython3",
      "version": "3.9.12"
    },
    "colab": {
      "provenance": [],
      "include_colab_link": true
    }
  },
  "nbformat": 4,
  "nbformat_minor": 5
}